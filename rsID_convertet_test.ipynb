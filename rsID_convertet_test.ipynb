{
 "cells": [
  {
   "cell_type": "code",
   "execution_count": 1,
   "id": "injured-stick",
   "metadata": {
    "execution": {
     "iopub.execute_input": "2022-04-27T10:41:26.073350Z",
     "iopub.status.busy": "2022-04-27T10:41:26.073255Z",
     "iopub.status.idle": "2022-04-27T10:41:26.075229Z",
     "shell.execute_reply": "2022-04-27T10:41:26.074870Z",
     "shell.execute_reply.started": "2022-04-27T10:41:26.073337Z"
    }
   },
   "outputs": [],
   "source": [
    "import sys\n",
    "sys.path.append('/home/sijaewoo/01_Tools/rsID_converter/')"
   ]
  },
  {
   "cell_type": "code",
   "execution_count": 2,
   "id": "understood-killing",
   "metadata": {
    "execution": {
     "iopub.execute_input": "2022-04-27T10:41:26.075734Z",
     "iopub.status.busy": "2022-04-27T10:41:26.075644Z",
     "iopub.status.idle": "2022-04-27T10:41:26.152500Z",
     "shell.execute_reply": "2022-04-27T10:41:26.152136Z",
     "shell.execute_reply.started": "2022-04-27T10:41:26.075721Z"
    }
   },
   "outputs": [],
   "source": [
    "from rsID_converter import *"
   ]
  },
  {
   "cell_type": "code",
   "execution_count": null,
   "id": "specialized-protest",
   "metadata": {},
   "outputs": [],
   "source": []
  },
  {
   "cell_type": "code",
   "execution_count": 3,
   "id": "olive-sheffield",
   "metadata": {
    "execution": {
     "iopub.execute_input": "2022-04-27T10:41:26.153192Z",
     "iopub.status.busy": "2022-04-27T10:41:26.153100Z",
     "iopub.status.idle": "2022-04-27T10:41:26.235267Z",
     "shell.execute_reply": "2022-04-27T10:41:26.234847Z",
     "shell.execute_reply.started": "2022-04-27T10:41:26.153179Z"
    }
   },
   "outputs": [
    {
     "data": {
      "text/plain": [
       "[('chr1:10054-10054', 'C', 'CT', 'rs1639543798'),\n",
       " ('chr1:10054-10055', 'CT', 'C', 'rs1639543820'),\n",
       " ('chr1:10055-10056', 'TA', 'T', 'rs768019142'),\n",
       " ('chr1:10055-10056', 'TA', 'TAA', 'rs768019142'),\n",
       " ('chr1:10055-10055', 'T', 'A', 'rs892501864'),\n",
       " ('chr1:10055-10055', 'T', 'C', 'rs892501864')]"
      ]
     },
     "execution_count": 3,
     "metadata": {},
     "output_type": "execute_result"
    }
   ],
   "source": [
    "locus2rsID('1:10054-10055')"
   ]
  },
  {
   "cell_type": "code",
   "execution_count": 4,
   "id": "expired-entry",
   "metadata": {
    "execution": {
     "iopub.execute_input": "2022-04-27T10:41:26.941870Z",
     "iopub.status.busy": "2022-04-27T10:41:26.941783Z",
     "iopub.status.idle": "2022-04-27T10:41:26.979604Z",
     "shell.execute_reply": "2022-04-27T10:41:26.979300Z",
     "shell.execute_reply.started": "2022-04-27T10:41:26.941858Z"
    }
   },
   "outputs": [
    {
     "data": {
      "text/plain": [
       "'rs1639543820'"
      ]
     },
     "execution_count": 4,
     "metadata": {},
     "output_type": "execute_result"
    }
   ],
   "source": [
    "locus2rsID('1:10054-10055','CT','C')"
   ]
  },
  {
   "cell_type": "code",
   "execution_count": null,
   "id": "seven-torture",
   "metadata": {},
   "outputs": [],
   "source": []
  },
  {
   "cell_type": "code",
   "execution_count": 5,
   "id": "future-sydney",
   "metadata": {
    "execution": {
     "iopub.execute_input": "2022-04-27T10:41:27.963077Z",
     "iopub.status.busy": "2022-04-27T10:41:27.962839Z",
     "iopub.status.idle": "2022-04-27T10:41:27.992124Z",
     "shell.execute_reply": "2022-04-27T10:41:27.991648Z",
     "shell.execute_reply.started": "2022-04-27T10:41:27.963047Z"
    }
   },
   "outputs": [
    {
     "data": {
      "text/plain": [
       "[('chr1:86695921-86695924', 'TGAG', 'T'),\n",
       " ('chr1:10008-10008', 'A', 'C'),\n",
       " ('chr1:10008-10008', 'A', 'G'),\n",
       " ('chr1:10008-10008', 'A', 'T')]"
      ]
     },
     "execution_count": 5,
     "metadata": {},
     "output_type": "execute_result"
    }
   ],
   "source": [
    "rsID2locus('rs1570391698')"
   ]
  },
  {
   "cell_type": "code",
   "execution_count": 6,
   "id": "unknown-tokyo",
   "metadata": {
    "execution": {
     "iopub.execute_input": "2022-04-27T10:41:41.503115Z",
     "iopub.status.busy": "2022-04-27T10:41:41.502880Z",
     "iopub.status.idle": "2022-04-27T10:41:41.551077Z",
     "shell.execute_reply": "2022-04-27T10:41:41.550614Z",
     "shell.execute_reply.started": "2022-04-27T10:41:41.503087Z"
    }
   },
   "outputs": [
    {
     "data": {
      "text/plain": [
       "[('chr1:86695921-86695921', 'T', 'G', 'rs921182754'),\n",
       " ('chr1:86695921-86695924', 'TGAG', 'T', 'rs1570391688'),\n",
       " ('chr1:86695923-86695923', 'A', 'G', 'rs751447839')]"
      ]
     },
     "execution_count": 6,
     "metadata": {},
     "output_type": "execute_result"
    }
   ],
   "source": [
    "locus2rsID('1:86695921-86695924')"
   ]
  },
  {
   "cell_type": "code",
   "execution_count": 7,
   "id": "essential-trust",
   "metadata": {
    "execution": {
     "iopub.execute_input": "2022-04-27T10:41:58.168319Z",
     "iopub.status.busy": "2022-04-27T10:41:58.168094Z",
     "iopub.status.idle": "2022-04-27T10:41:58.210369Z",
     "shell.execute_reply": "2022-04-27T10:41:58.209958Z",
     "shell.execute_reply.started": "2022-04-27T10:41:58.168293Z"
    }
   },
   "outputs": [
    {
     "data": {
      "text/plain": [
       "[('chr1:10008-10008', 'A', 'C', 'rs1570391698'),\n",
       " ('chr1:10008-10008', 'A', 'G', 'rs1570391698'),\n",
       " ('chr1:10008-10008', 'A', 'T', 'rs1570391698')]"
      ]
     },
     "execution_count": 7,
     "metadata": {},
     "output_type": "execute_result"
    }
   ],
   "source": [
    "locus2rsID('1:10008-10008')"
   ]
  },
  {
   "cell_type": "code",
   "execution_count": null,
   "id": "decreased-farmer",
   "metadata": {},
   "outputs": [],
   "source": []
  }
 ],
 "metadata": {
  "kernelspec": {
   "display_name": "Python .conda-jklab",
   "language": "python",
   "name": "conda-env-.conda-jklab-py"
  },
  "language_info": {
   "codemirror_mode": {
    "name": "ipython",
    "version": 3
   },
   "file_extension": ".py",
   "mimetype": "text/x-python",
   "name": "python",
   "nbconvert_exporter": "python",
   "pygments_lexer": "ipython3",
   "version": "3.7.7"
  },
  "widgets": {
   "application/vnd.jupyter.widget-state+json": {
    "state": {},
    "version_major": 2,
    "version_minor": 0
   }
  }
 },
 "nbformat": 4,
 "nbformat_minor": 5
}
